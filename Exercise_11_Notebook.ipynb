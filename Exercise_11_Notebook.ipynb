{
 "cells": [
  {
   "cell_type": "markdown",
   "id": "0bcdd4c0-ea58-4b6d-af26-36e39fad6059",
   "metadata": {},
   "source": [
    "### Exercise 2:"
   ]
  },
  {
   "cell_type": "markdown",
   "id": "24cfb4ee-bb04-4c70-8f00-a6e38597dcfa",
   "metadata": {},
   "source": [
    "# Data Science Tools and Ecosystem"
   ]
  },
  {
   "cell_type": "markdown",
   "id": "e55daf80-97e3-47c5-ace9-2bb3d35bfac6",
   "metadata": {},
   "source": [
    "This notebook provides a summary of Data Science Tools and Ecosystem."
   ]
  },
  {
   "cell_type": "markdown",
   "id": "6885d6d6-e229-4ecf-bd67-d3abeb1c5380",
   "metadata": {},
   "source": [
    "**Objectives:**\n",
    "-  List some popular Data Science languages\n",
    "-  List some common Data Science libraries\n",
    "-  Evaluate and show expressions in a notebook\n",
    "-  Indicate your name\n",
    "-  Learn the markdown language in Jupyter"
   ]
  },
  {
   "cell_type": "markdown",
   "id": "08f90620-f294-4515-bc6f-095cdb85e802",
   "metadata": {},
   "source": [
    "Some of the popular languages that Data Scientists use are:\n",
    "1. Python\n",
    "2. R\n",
    "3. SQL (Structured Query Language)\n",
    "4. Java\n",
    "5. Julia"
   ]
  },
  {
   "cell_type": "markdown",
   "id": "c91bdc3f-6347-49ac-9d1d-9951ec43d26b",
   "metadata": {},
   "source": [
    "Some of the commonly used libraries used by Data Scientists include:\n",
    "1. Pandas\n",
    "2. Matplotlib\n",
    "3. Seaborn\n",
    "4. numpy\n",
    "5. Scikit-learn\n",
    "6. Tensorflow\n",
    "7. Caret (R)"
   ]
  },
  {
   "cell_type": "markdown",
   "id": "54665e94-f680-4d2d-a7ea-115ee096f136",
   "metadata": {},
   "source": [
    "|Data Science Tools|\n",
    "|---|\n",
    "|Jupyter Notebook|\n",
    "|RStudio|\n",
    "|Spyder|\n",
    "|Apache Zeppelin|\n",
    "|Visual Studio Code|"
   ]
  },
  {
   "cell_type": "markdown",
   "id": "5bae972a-994f-4948-8afa-b388fe42c518",
   "metadata": {},
   "source": [
    "### Here are a few examples of evaluating arithmetic expressions in Python"
   ]
  },
  {
   "cell_type": "code",
   "execution_count": 5,
   "id": "a8274959-3e2c-4154-a42a-ab0cc4942685",
   "metadata": {},
   "outputs": [
    {
     "data": {
      "text/plain": [
       "17"
      ]
     },
     "execution_count": 5,
     "metadata": {},
     "output_type": "execute_result"
    }
   ],
   "source": [
    "# This a simple arithmetic expression to mutiply then add integers:\n",
    "(3*4)+5"
   ]
  },
  {
   "cell_type": "code",
   "execution_count": 6,
   "id": "4405cd6f-0fad-4d2f-9de2-c4b7699c5976",
   "metadata": {},
   "outputs": [
    {
     "data": {
      "text/plain": [
       "3.3333333333333335"
      ]
     },
     "execution_count": 6,
     "metadata": {},
     "output_type": "execute_result"
    }
   ],
   "source": [
    "#This expression converts 200 minutes into hours by dividing by 60:\n",
    "200/60"
   ]
  },
  {
   "cell_type": "markdown",
   "id": "33367ee5-54c1-4d40-99cd-2d962ac496d9",
   "metadata": {},
   "source": [
    "## Author \n",
    "Dr. Stefan Coetzee"
   ]
  }
 ],
 "metadata": {
  "kernelspec": {
   "display_name": "Python",
   "language": "python",
   "name": "conda-env-python-py"
  },
  "language_info": {
   "codemirror_mode": {
    "name": "ipython",
    "version": 3
   },
   "file_extension": ".py",
   "mimetype": "text/x-python",
   "name": "python",
   "nbconvert_exporter": "python",
   "pygments_lexer": "ipython3",
   "version": "3.7.12"
  }
 },
 "nbformat": 4,
 "nbformat_minor": 5
}
