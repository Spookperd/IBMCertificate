{
 "cells": [
  {
   "cell_type": "markdown",
   "id": "0bcdd4c0-ea58-4b6d-af26-36e39fad6059",
   "metadata": {},
   "source": [
    "### Exercise 2:"
   ]
  },
  {
   "cell_type": "markdown",
   "id": "24cfb4ee-bb04-4c70-8f00-a6e38597dcfa",
   "metadata": {},
   "source": [
    "# Data Science Tools and Ecosystem"
   ]
  },
  {
   "cell_type": "markdown",
   "id": "884bd0b2-f545-4cac-800f-188632046d54",
   "metadata": {},
   "source": [
    "# Data Science Tools and Ecosystem"
   ]
  },
  {
   "cell_type": "markdown",
   "id": "dc8162a3-f019-4444-8b6b-21720aa6c798",
   "metadata": {},
   "source": [
    "### Exercise 3:"
   ]
  },
  {
   "cell_type": "markdown",
   "id": "e55daf80-97e3-47c5-ace9-2bb3d35bfac6",
   "metadata": {},
   "source": [
    "This notebook provides a summary of Data Science Tools and Ecosystem."
   ]
  },
  {
   "cell_type": "markdown",
   "id": "51210213-f9d7-45d9-a6e2-639b5b007727",
   "metadata": {},
   "source": [
    "This notebook provides a summary of Data Science Tools and Ecosystem."
   ]
  },
  {
   "cell_type": "markdown",
   "id": "d08f9a05-86f9-4771-b514-7fb67d08fec8",
   "metadata": {},
   "source": [
    "### Exercise 4:"
   ]
  },
  {
   "cell_type": "markdown",
   "id": "08f90620-f294-4515-bc6f-095cdb85e802",
   "metadata": {},
   "source": [
    "Some of the popular languages that Data Scientists use are:\n",
    "1. Python\n",
    "2. R\n",
    "3. SQL (Structured Query Language)\n",
    "4. Java\n",
    "5. Julia"
   ]
  },
  {
   "cell_type": "markdown",
   "id": "6e6e6bb8-beaa-47bb-be48-182c94df07f7",
   "metadata": {},
   "source": [
    "Some of the popular languages that Data Scientists use are:\n",
    "1. Python\n",
    "2. R\n",
    "3. SQL (Structured Query Language)\n",
    "4. Java\n",
    "5. Julia"
   ]
  },
  {
   "cell_type": "markdown",
   "id": "c1d31e00-ddfa-47d2-a2ba-007d41c3956e",
   "metadata": {},
   "source": [
    "### Exercise 5:"
   ]
  },
  {
   "cell_type": "markdown",
   "id": "85ba0243-b7b7-4320-8f9a-7222d57e7dae",
   "metadata": {},
   "source": [
    "Some of the commonly used libraries used by Data Scientists include:\n",
    "1. Pandas\n",
    "2. Matplotlib\n",
    "3. Seaborn\n",
    "4. numpy\n",
    "5. Scikit-learn\n",
    "6. Tensorflow\n",
    "7. Caret (R)"
   ]
  },
  {
   "cell_type": "markdown",
   "id": "c91bdc3f-6347-49ac-9d1d-9951ec43d26b",
   "metadata": {},
   "source": [
    "Some of the commonly used libraries used by Data Scientists include:\n",
    "1. Pandas\n",
    "2. Matplotlib\n",
    "3. Seaborn\n",
    "4. numpy\n",
    "5. Scikit-learn\n",
    "6. Tensorflow\n",
    "7. Caret (R)"
   ]
  },
  {
   "cell_type": "markdown",
   "id": "73c8f0b5-cf3f-45df-8899-623ef9abfbc0",
   "metadata": {},
   "source": [
    "### Exercise 6:"
   ]
  },
  {
   "cell_type": "markdown",
   "id": "28571123-9474-4583-899a-fb72252c743a",
   "metadata": {},
   "source": [
    "|Data Science Tools|\n",
    "|---|\n",
    "|Jupyter Notebook|\n",
    "|RStudio|\n",
    "|Spyder|\n",
    "|Apache Zeppelin|\n",
    "|Visual Studio Code|"
   ]
  },
  {
   "cell_type": "markdown",
   "id": "54665e94-f680-4d2d-a7ea-115ee096f136",
   "metadata": {},
   "source": [
    "|Data Science Tools|\n",
    "|---|\n",
    "|Jupyter Notebook|\n",
    "|RStudio|\n",
    "|Spyder|\n",
    "|Apache Zeppelin|\n",
    "|Visual Studio Code|"
   ]
  },
  {
   "cell_type": "markdown",
   "id": "d087fea8-ac08-45ab-adca-d76b019048cf",
   "metadata": {},
   "source": [
    "### Exercise 7:"
   ]
  },
  {
   "cell_type": "markdown",
   "id": "87aec09a-3d9e-4bbb-adbe-982b2544e806",
   "metadata": {},
   "source": [
    "### Here are a few examples of evaluating arithmetic expressions in Python"
   ]
  },
  {
   "cell_type": "markdown",
   "id": "5bae972a-994f-4948-8afa-b388fe42c518",
   "metadata": {},
   "source": [
    "### Here are a few examples of evaluating arithmetic expressions in Python"
   ]
  },
  {
   "cell_type": "markdown",
   "id": "b3bc81d9-6d49-4f05-8386-1ebef738140e",
   "metadata": {},
   "source": [
    "### Exercise 8:"
   ]
  },
  {
   "cell_type": "code",
   "execution_count": 5,
   "id": "a8274959-3e2c-4154-a42a-ab0cc4942685",
   "metadata": {},
   "outputs": [
    {
     "data": {
      "text/plain": [
       "17"
      ]
     },
     "execution_count": 5,
     "metadata": {},
     "output_type": "execute_result"
    }
   ],
   "source": [
    "# This a simple arithmetic expression to mutiply then add integers:\n",
    "(3*4)+5"
   ]
  },
  {
   "cell_type": "markdown",
   "id": "c9ab97e7-cffe-42ba-a955-aafb4fa70f7e",
   "metadata": {},
   "source": [
    "### Exercise 9:"
   ]
  },
  {
   "cell_type": "code",
   "execution_count": 6,
   "id": "4405cd6f-0fad-4d2f-9de2-c4b7699c5976",
   "metadata": {},
   "outputs": [
    {
     "data": {
      "text/plain": [
       "3.3333333333333335"
      ]
     },
     "execution_count": 6,
     "metadata": {},
     "output_type": "execute_result"
    }
   ],
   "source": [
    "#This expression converts 200 minutes into hours by dividing by 60:\n",
    "200/60"
   ]
  },
  {
   "cell_type": "markdown",
   "id": "8f04da2f-a0bb-4e43-9520-608f93933fd7",
   "metadata": {},
   "source": [
    "### Exercise 10:"
   ]
  },
  {
   "cell_type": "markdown",
   "id": "5991f86d-4dfb-4c57-96bb-bd0fb12d6b2e",
   "metadata": {},
   "source": [
    "This notebook provides a summary of Data Science Tools and Ecosystem."
   ]
  },
  {
   "cell_type": "markdown",
   "id": "39a9c75e-5d12-43e4-9e94-23f7cccfde41",
   "metadata": {},
   "source": [
    "**Objectives:**\n",
    "-  List some popular Data Science languages\n",
    "-  List some common Data Science libraries\n",
    "-  Evaluate and show expressions in a notebook\n",
    "-  Indicate your name\n",
    "-  Learn the markdown language in Jupyter"
   ]
  },
  {
   "cell_type": "markdown",
   "id": "2737cef1-82bc-45ce-8d82-d6f9cea0e7f1",
   "metadata": {},
   "source": [
    "**Objectives:**\n",
    "-  List some popular Data Science languages\n",
    "-  List some common Data Science libraries\n",
    "-  Evaluate and show expressions in a notebook\n",
    "-  Indicate your name\n",
    "-  Learn the markdown language in Jupyter"
   ]
  },
  {
   "cell_type": "markdown",
   "id": "ea8df377-f667-4271-ac48-7f6fc5387943",
   "metadata": {},
   "source": [
    "### Exercise 11:"
   ]
  },
  {
   "cell_type": "markdown",
   "id": "e517567d-5c53-489d-8fcf-98ee8e14e547",
   "metadata": {},
   "source": [
    "## Author \n",
    "Dr. Stefan Coetzee"
   ]
  },
  {
   "cell_type": "markdown",
   "id": "33367ee5-54c1-4d40-99cd-2d962ac496d9",
   "metadata": {},
   "source": [
    "## Author \n",
    "Dr. Stefan Coetzee"
   ]
  },
  {
   "cell_type": "code",
   "execution_count": null,
   "id": "2bef867a-a915-4f9c-8e33-9d4f6ce17439",
   "metadata": {},
   "outputs": [],
   "source": []
  }
 ],
 "metadata": {
  "kernelspec": {
   "display_name": "Python",
   "language": "python",
   "name": "conda-env-python-py"
  },
  "language_info": {
   "codemirror_mode": {
    "name": "ipython",
    "version": 3
   },
   "file_extension": ".py",
   "mimetype": "text/x-python",
   "name": "python",
   "nbconvert_exporter": "python",
   "pygments_lexer": "ipython3",
   "version": "3.7.12"
  }
 },
 "nbformat": 4,
 "nbformat_minor": 5
}
